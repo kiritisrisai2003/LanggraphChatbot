{
 "cells": [
  {
   "cell_type": "code",
   "execution_count": 1,
   "id": "24d2f03e",
   "metadata": {},
   "outputs": [],
   "source": [
    "### build a basic chatbot with langgraph\n"
   ]
  },
  {
   "cell_type": "code",
   "execution_count": 2,
   "id": "2b97dd2d",
   "metadata": {},
   "outputs": [],
   "source": [
    "from typing import Annotated\n",
    "from typing_extensions import TypedDict\n",
    "from langgraph.graph import StateGraph ,START ,END\n",
    "from langgraph.graph.message import add_messages\n"
   ]
  },
  {
   "cell_type": "code",
   "execution_count": 3,
   "id": "e6058338",
   "metadata": {},
   "outputs": [],
   "source": [
    "class State(TypedDict):\n",
    "    # messages have the type list type and add_messages function\n",
    "    # in the annotation how the state key should be defined\n",
    "    # in this case it appends messages to the list rather than overwriting\n",
    "    messages:Annotated[list ,add_messages]\n",
    "\n",
    "graph_builder=StateGraph(State)    \n"
   ]
  },
  {
   "cell_type": "code",
   "execution_count": 4,
   "id": "6a9e9c8b",
   "metadata": {},
   "outputs": [
    {
     "data": {
      "text/plain": [
       "True"
      ]
     },
     "execution_count": 4,
     "metadata": {},
     "output_type": "execute_result"
    }
   ],
   "source": [
    "import os\n",
    "from dotenv import load_dotenv\n",
    "load_dotenv()\n"
   ]
  },
  {
   "cell_type": "code",
   "execution_count": 5,
   "id": "323c76f0",
   "metadata": {},
   "outputs": [],
   "source": [
    "from langchain_groq import ChatGroq\n",
    "from langchain.chat_models import init_chat_model\n",
    "\n",
    "\n",
    "llm=ChatGroq(model=\"llama3-8b-8192\")\n"
   ]
  },
  {
   "cell_type": "code",
   "execution_count": 6,
   "id": "38ad5983",
   "metadata": {},
   "outputs": [
    {
     "data": {
      "text/plain": [
       "ChatGroq(client=<groq.resources.chat.completions.Completions object at 0x00000279A5F85810>, async_client=<groq.resources.chat.completions.AsyncCompletions object at 0x00000279A5F86210>, model_name='llama3-8b-8192', model_kwargs={}, groq_api_key=SecretStr('**********'))"
      ]
     },
     "execution_count": 6,
     "metadata": {},
     "output_type": "execute_result"
    }
   ],
   "source": [
    "llm=init_chat_model(\"groq:llama3-8b-8192\")\n",
    "llm"
   ]
  },
  {
   "cell_type": "code",
   "execution_count": 7,
   "id": "9e06aa51",
   "metadata": {},
   "outputs": [],
   "source": [
    "def chatbot(state:State):\n",
    "    return {\"messages\": [llm.invoke(state[\"messages\"])]}\n"
   ]
  },
  {
   "cell_type": "code",
   "execution_count": 8,
   "id": "2fec61e1",
   "metadata": {},
   "outputs": [],
   "source": [
    "graph_builder=StateGraph(State)\n",
    "\n",
    "## adding node \n",
    "graph_builder.add_node(\"llmchatbot\", chatbot)\n",
    "\n",
    "## adding edges\n",
    "graph_builder.add_edge(START ,\"llmchatbot\")\n",
    "graph_builder.add_edge(\"llmchatbot\" , END)\n",
    "\n",
    "# compile the graph\n",
    "graph=graph_builder.compile()\n"
   ]
  },
  {
   "cell_type": "code",
   "execution_count": 9,
   "id": "67812732",
   "metadata": {},
   "outputs": [],
   "source": [
    "from IPython.display import Image,display\n",
    "\n",
    "try:\n",
    "    display(Image(graph.get_graph().draw_mermaid.png()))\n",
    "except Exception:\n",
    "    pass    "
   ]
  },
  {
   "cell_type": "code",
   "execution_count": 10,
   "id": "47307c0d",
   "metadata": {},
   "outputs": [],
   "source": [
    "response=graph.invoke({\"messages\":\"hi\"})"
   ]
  },
  {
   "cell_type": "code",
   "execution_count": 11,
   "id": "c1484bb3",
   "metadata": {},
   "outputs": [
    {
     "data": {
      "text/plain": [
       "AIMessage(content=\"Hi! It's nice to meet you. Is there something I can help you with or would you like to chat?\", additional_kwargs={}, response_metadata={'token_usage': {'completion_tokens': 25, 'prompt_tokens': 11, 'total_tokens': 36, 'completion_time': 0.049963778, 'prompt_time': 0.008064629, 'queue_time': 0.26928910100000003, 'total_time': 0.058028407}, 'model_name': 'llama3-8b-8192', 'system_fingerprint': 'fp_8dc6ecaf8e', 'finish_reason': 'stop', 'logprobs': None}, id='run--8bc2232d-bd50-49eb-9b2b-e6b59536db26-0', usage_metadata={'input_tokens': 11, 'output_tokens': 25, 'total_tokens': 36})"
      ]
     },
     "execution_count": 11,
     "metadata": {},
     "output_type": "execute_result"
    }
   ],
   "source": [
    "response[\"messages\"][-1]"
   ]
  },
  {
   "cell_type": "code",
   "execution_count": 12,
   "id": "a83b622f",
   "metadata": {},
   "outputs": [
    {
     "data": {
      "text/plain": [
       "\"Hi! It's nice to meet you. Is there something I can help you with or would you like to chat?\""
      ]
     },
     "execution_count": 12,
     "metadata": {},
     "output_type": "execute_result"
    }
   ],
   "source": [
    "response[\"messages\"][-1].content"
   ]
  },
  {
   "cell_type": "code",
   "execution_count": 13,
   "id": "e5ed9e95",
   "metadata": {},
   "outputs": [
    {
     "data": {
      "text/plain": [
       "{'query': 'what is langgraph',\n",
       " 'follow_up_questions': None,\n",
       " 'answer': None,\n",
       " 'images': [],\n",
       " 'results': [{'title': 'What is LangGraph? - IBM',\n",
       "   'url': 'https://www.ibm.com/think/topics/langgraph',\n",
       "   'content': 'LangGraph, created by LangChain, is an open source AI agent framework designed to build, deploy and manage complex generative AI agent workflows. At its core, LangGraph uses the power of graph-based architectures to model and manage the intricate relationships between various components of an AI agent workflow. LangGraph illuminates the processes within an AI workflow, allowing full transparency of the agent’s state. By combining these technologies with a set of APIs and tools, LangGraph provides users with a versatile platform for developing AI solutions and workflows including chatbots, state graphs and other agent-based systems. Nodes: In LangGraph, nodes represent individual components or agents within an AI workflow. LangGraph uses enhanced decision-making by modeling complex relationships between nodes, which means it uses AI agents to analyze their past actions and feedback.',\n",
       "   'score': 0.9385817,\n",
       "   'raw_content': None},\n",
       "  {'title': 'What is LangGraph? - GeeksforGeeks',\n",
       "   'url': 'https://www.geeksforgeeks.org/machine-learning/what-is-langgraph/',\n",
       "   'content': 'LangGraph is a Python library that helps you build applications like chatbots or AI agents by organizing their logic step-by-step using state machine model. This step configures your Gemini API key and then we create a simple function ask_gemini that takes user input, sends it to the Gemini model and returns the AI-generated response. Creates a state structure with three fields: question, classification and response which flows through the LangGraph. import matplotlib.pyplot as plt from langgraph.graph import StateGraph\\u200bbuilder = StateGraph(GraphState)builder.add_node(\"classify\", classify)builder.add_node(\"respond\", respond)builder.set_entry_point(\"classify\")builder.add_edge(\"classify\", \"respond\")builder.set_finish_point(\"respond\")app = builder.compile()\\u200bdef visualize_workflow(builder): G = nx.DiGraph()\\u200b for node in builder.nodes: G.add_node(node) for edge in builder.edges: G.add_edge(edge[0], edge[1])\\u200b pos = nx.spring_layout(G) nx.draw(G, pos, with_labels=True, node_size=3000, node_color=\"skyblue\", font_size=12, font_weight=\"bold\", arrows=True)  plt.title(\"Langchain Workflow Visualization\") plt.show()\\u200bvisualize_workflow(builder)',\n",
       "   'score': 0.91118777,\n",
       "   'raw_content': None}],\n",
       " 'response_time': 1.68}"
      ]
     },
     "execution_count": 13,
     "metadata": {},
     "output_type": "execute_result"
    }
   ],
   "source": [
    "from langchain_tavily import TavilySearch\n",
    "tool=TavilySearch(max_results=2)\n",
    "tool.invoke(\"what is langgraph\")"
   ]
  },
  {
   "cell_type": "code",
   "execution_count": 14,
   "id": "b080e6ce",
   "metadata": {},
   "outputs": [],
   "source": [
    "### custom function\n",
    "\n",
    "def multiply(a:int ,b:int)->int:\n",
    "    \"\"\" \n",
    "       Args:\n",
    "        a (int): first int\n",
    "        b (int): second int\n",
    "\n",
    "    Returns:\n",
    "        int: output int\n",
    "    \"\"\"\n",
    "    return a*b"
   ]
  },
  {
   "cell_type": "code",
   "execution_count": 15,
   "id": "822d7535",
   "metadata": {},
   "outputs": [],
   "source": [
    "tools=[tool,multiply]"
   ]
  },
  {
   "cell_type": "code",
   "execution_count": 16,
   "id": "cce30c8b",
   "metadata": {},
   "outputs": [],
   "source": [
    "llm_with_tool=llm.bind_tools(tools)"
   ]
  },
  {
   "cell_type": "code",
   "execution_count": 17,
   "id": "13399756",
   "metadata": {},
   "outputs": [
    {
     "data": {
      "text/plain": [
       "RunnableBinding(bound=ChatGroq(client=<groq.resources.chat.completions.Completions object at 0x00000279A5F85810>, async_client=<groq.resources.chat.completions.AsyncCompletions object at 0x00000279A5F86210>, model_name='llama3-8b-8192', model_kwargs={}, groq_api_key=SecretStr('**********')), kwargs={'tools': [{'type': 'function', 'function': {'name': 'tavily_search', 'description': 'A search engine optimized for comprehensive, accurate, and trusted results. Useful for when you need to answer questions about current events. It not only retrieves URLs and snippets, but offers advanced search depths, domain management, time range filters, and image search, this tool delivers real-time, accurate, and citation-backed results.Input should be a search query.', 'parameters': {'properties': {'query': {'description': 'Search query to look up', 'type': 'string'}, 'include_domains': {'anyOf': [{'items': {'type': 'string'}, 'type': 'array'}, {'type': 'null'}], 'default': [], 'description': 'A list of domains to restrict search results to.\\n\\n        Use this parameter when:\\n        1. The user explicitly requests information from specific websites (e.g., \"Find climate data from nasa.gov\")\\n        2. The user mentions an organization or company without specifying the domain (e.g., \"Find information about iPhones from Apple\")\\n\\n        In both cases, you should determine the appropriate domains (e.g., [\"nasa.gov\"] or [\"apple.com\"]) and set this parameter.\\n\\n        Results will ONLY come from the specified domains - no other sources will be included.\\n        Default is None (no domain restriction).\\n        '}, 'exclude_domains': {'anyOf': [{'items': {'type': 'string'}, 'type': 'array'}, {'type': 'null'}], 'default': [], 'description': 'A list of domains to exclude from search results.\\n\\n        Use this parameter when:\\n        1. The user explicitly requests to avoid certain websites (e.g., \"Find information about climate change but not from twitter.com\")\\n        2. The user mentions not wanting results from specific organizations without naming the domain (e.g., \"Find phone reviews but nothing from Apple\")\\n\\n        In both cases, you should determine the appropriate domains to exclude (e.g., [\"twitter.com\"] or [\"apple.com\"]) and set this parameter.\\n\\n        Results will filter out all content from the specified domains.\\n        Default is None (no domain exclusion).\\n        '}, 'search_depth': {'anyOf': [{'enum': ['basic', 'advanced'], 'type': 'string'}, {'type': 'null'}], 'default': 'basic', 'description': 'Controls search thoroughness and result comprehensiveness.\\n    \\n        Use \"basic\" for simple queries requiring quick, straightforward answers.\\n        \\n        Use \"advanced\" (default) for complex queries, specialized topics, \\n        rare information, or when in-depth analysis is needed.\\n        '}, 'include_images': {'anyOf': [{'type': 'boolean'}, {'type': 'null'}], 'default': False, 'description': 'Determines if the search returns relevant images along with text results.\\n   \\n        Set to True when the user explicitly requests visuals or when images would \\n        significantly enhance understanding (e.g., \"Show me what black holes look like,\" \\n        \"Find pictures of Renaissance art\").\\n        \\n        Leave as False (default) for most informational queries where text is sufficient.\\n        '}, 'time_range': {'anyOf': [{'enum': ['day', 'week', 'month', 'year'], 'type': 'string'}, {'type': 'null'}], 'default': None, 'description': 'Limits results to content published within a specific timeframe.\\n        \\n        ONLY set this when the user explicitly mentions a time period \\n        (e.g., \"latest AI news,\" \"articles from last week\").\\n        \\n        For less popular or niche topics, use broader time ranges \\n        (\"month\" or \"year\") to ensure sufficient relevant results.\\n   \\n        Options: \"day\" (24h), \"week\" (7d), \"month\" (30d), \"year\" (365d).\\n        \\n        Default is None.\\n        '}, 'topic': {'anyOf': [{'enum': ['general', 'news', 'finance'], 'type': 'string'}, {'type': 'null'}], 'default': 'general', 'description': 'Specifies search category for optimized results.\\n   \\n        Use \"general\" (default) for most queries, INCLUDING those with terms like \\n        \"latest,\" \"newest,\" or \"recent\" when referring to general information.\\n\\n        Use \"finance\" for markets, investments, economic data, or financial news.\\n\\n        Use \"news\" ONLY for politics, sports, or major current events covered by \\n        mainstream media - NOT simply because a query asks for \"new\" information.\\n        '}}, 'required': ['query'], 'type': 'object'}}}, {'type': 'function', 'function': {'name': 'multiply', 'description': 'Args:\\n a (int): first int\\n b (int): second int', 'parameters': {'properties': {'a': {'type': 'integer'}, 'b': {'type': 'integer'}}, 'required': ['a', 'b'], 'type': 'object'}}}]}, config={}, config_factories=[])"
      ]
     },
     "execution_count": 17,
     "metadata": {},
     "output_type": "execute_result"
    }
   ],
   "source": [
    "llm_with_tool"
   ]
  },
  {
   "cell_type": "code",
   "execution_count": 28,
   "id": "93789a34",
   "metadata": {},
   "outputs": [
    {
     "data": {
      "image/png": "[encoded data removed]",
      "text/plain": [
       "<IPython.core.display.Image object>"
      ]
     },
     "metadata": {},
     "output_type": "display_data"
    }
   ],
   "source": [
    "##stategraph\n",
    "\n",
    "from langgraph.graph import StateGraph ,START,END\n",
    "from langgraph.prebuilt import ToolNode\n",
    "\n",
    "from langgraph.prebuilt import tools_condition\n",
    "\n",
    "\n",
    "## Node Definition\n",
    "\n",
    "def tool_calling_llm(state:State):\n",
    "    return {\"messages\": [llm.invoke(state[\"messages\"])]}\n",
    "## Graph\n",
    "builder=StateGraph(State)\n",
    "builder.add_node(\"tool_calling_llm\",tool_calling_llm) \n",
    "builder.add_node(\"tools\" ,ToolNode(tools))\n",
    "\n",
    "## Add Edges\n",
    "builder.add_edge(START, \"tool_calling_llm\")\n",
    "builder.add_conditional_edges(\n",
    "    \"tool_calling_llm\",\n",
    "    # If the latest message (result) from assistant is a tool call -> tools_condition routes to tools\n",
    "    # If the latest message (result) from assistant is a not a tool call -> tools_condition routes to END\n",
    "    tools_condition\n",
    ")\n",
    "builder.add_edge(\"tools\",END)\n",
    "\n",
    "## compile the graph\n",
    "graph=builder.compile()\n",
    "\n",
    "from IPython.display import Image, display\n",
    "display(Image(graph.get_graph().draw_mermaid_png()))\n"
   ]
  },
  {
   "cell_type": "code",
   "execution_count": 19,
   "id": "61f76e18",
   "metadata": {},
   "outputs": [],
   "source": [
    "response=graph.invoke({\"messages\":\"What is recent news\"})"
   ]
  },
  {
   "cell_type": "code",
   "execution_count": 23,
   "id": "40bfc5e0",
   "metadata": {},
   "outputs": [
    {
     "data": {
      "text/plain": [
       "'There are many sources of recent news, and it\\'s difficult to provide a comprehensive list. However, I can give you some examples of recent news stories from various categories:\\n\\n**Politics**\\n\\n* The COVID-19 pandemic continues to be a major global issue, with new cases and hospitalizations reported daily.\\n* The 2020 US presidential election has been a major focus of news in recent weeks, with Joe Biden winning the election and Kamala Harris becoming the first female and first Black woman to hold the office of Vice President.\\n* The UK has left the European Union, with the Brexit transition period ending on January 31, 2020.\\n\\n**Business**\\n\\n* The global economy is facing challenges due to the COVID-19 pandemic, with many countries experiencing recessions or slow growth.\\n* The rollout of 5G networks is underway, with many countries launching their own 5G networks.\\n* Tesla\\'s stock price has been on a rollercoaster ride in recent weeks, with the company\\'s value fluctuating due to concerns over its financial health and the global pandemic.\\n\\n**Technology**\\n\\n* The latest iPhone and Samsung Galaxy S21 smartphones have been released, with many features and upgrades.\\n* The COVID-19 pandemic has accelerated the shift to remote work, with many companies adopting virtual meeting tools and cloud-based software.\\n* The UK\\'s National Health Service (NHS) has launched a new AI-powered chatbot to help patients with symptoms and advice.\\n\\n**Entertainment**\\n\\n* The 93rd Academy Awards took place on April 25, 2021, with \"Nomadland\" winning Best Picture and \"Chloé Zhao\" winning Best Director.\\n* The latest Marvel movie, \"Shang-Chi and the Legend of the Ten Rings,\" has been released, with many praising its action sequences and cultural representation.\\n* The popular TV show \"Stranger Things\" has released its fourth season, with many fans praising its nostalgic value and new characters.\\n\\n**Science**\\n\\n* NASA\\'s Perseverance rover has landed on Mars, with the rover set to search for signs of life on the Red Planet.\\n* The COVID-19 pandemic has accelerated research into vaccines, treatments, and diagnostic tools, with many promising breakthroughs and developments.\\n* The 2020 Nobel Prizes were awarded to scientists and researchers in fields such as physics, chemistry, and medicine, with many notable achievements recognized.\\n\\n**Sports**\\n\\n* The 2020-21 NFL season has been underway, with the Kansas City Chiefs winning Super Bowl LV.\\n* The 2020 Summer Olympics took place in Tokyo, Japan, with many notable achievements and records set by athletes.\\n* The COVID-19 pandemic has disrupted many sports leagues and events, with many teams and athletes adapting to new protocols and schedules.\\n\\nThese are just a few examples of recent news stories. You can find many more stories and updates by visiting reputable news sources and following news organizations on social media.'"
      ]
     },
     "execution_count": 23,
     "metadata": {},
     "output_type": "execute_result"
    }
   ],
   "source": [
    "response['messages'][-1].content"
   ]
  },
  {
   "cell_type": "code",
   "execution_count": 24,
   "id": "6e5d86e4",
   "metadata": {},
   "outputs": [
    {
     "name": "stdout",
     "output_type": "stream",
     "text": [
      "================================\u001b[1m Human Message \u001b[0m=================================\n",
      "\n",
      "What is recent news\n",
      "==================================\u001b[1m Ai Message \u001b[0m==================================\n",
      "\n",
      "There are many sources of recent news, and it's difficult to provide a comprehensive list. However, I can give you some examples of recent news stories from various categories:\n",
      "\n",
      "**Politics**\n",
      "\n",
      "* The COVID-19 pandemic continues to be a major global issue, with new cases and hospitalizations reported daily.\n",
      "* The 2020 US presidential election has been a major focus of news in recent weeks, with Joe Biden winning the election and Kamala Harris becoming the first female and first Black woman to hold the office of Vice President.\n",
      "* The UK has left the European Union, with the Brexit transition period ending on January 31, 2020.\n",
      "\n",
      "**Business**\n",
      "\n",
      "* The global economy is facing challenges due to the COVID-19 pandemic, with many countries experiencing recessions or slow growth.\n",
      "* The rollout of 5G networks is underway, with many countries launching their own 5G networks.\n",
      "* Tesla's stock price has been on a rollercoaster ride in recent weeks, with the company's value fluctuating due to concerns over its financial health and the global pandemic.\n",
      "\n",
      "**Technology**\n",
      "\n",
      "* The latest iPhone and Samsung Galaxy S21 smartphones have been released, with many features and upgrades.\n",
      "* The COVID-19 pandemic has accelerated the shift to remote work, with many companies adopting virtual meeting tools and cloud-based software.\n",
      "* The UK's National Health Service (NHS) has launched a new AI-powered chatbot to help patients with symptoms and advice.\n",
      "\n",
      "**Entertainment**\n",
      "\n",
      "* The 93rd Academy Awards took place on April 25, 2021, with \"Nomadland\" winning Best Picture and \"Chloé Zhao\" winning Best Director.\n",
      "* The latest Marvel movie, \"Shang-Chi and the Legend of the Ten Rings,\" has been released, with many praising its action sequences and cultural representation.\n",
      "* The popular TV show \"Stranger Things\" has released its fourth season, with many fans praising its nostalgic value and new characters.\n",
      "\n",
      "**Science**\n",
      "\n",
      "* NASA's Perseverance rover has landed on Mars, with the rover set to search for signs of life on the Red Planet.\n",
      "* The COVID-19 pandemic has accelerated research into vaccines, treatments, and diagnostic tools, with many promising breakthroughs and developments.\n",
      "* The 2020 Nobel Prizes were awarded to scientists and researchers in fields such as physics, chemistry, and medicine, with many notable achievements recognized.\n",
      "\n",
      "**Sports**\n",
      "\n",
      "* The 2020-21 NFL season has been underway, with the Kansas City Chiefs winning Super Bowl LV.\n",
      "* The 2020 Summer Olympics took place in Tokyo, Japan, with many notable achievements and records set by athletes.\n",
      "* The COVID-19 pandemic has disrupted many sports leagues and events, with many teams and athletes adapting to new protocols and schedules.\n",
      "\n",
      "These are just a few examples of recent news stories. You can find many more stories and updates by visiting reputable news sources and following news organizations on social media.\n"
     ]
    }
   ],
   "source": [
    "for m in response['messages']:\n",
    "    m.pretty_print()"
   ]
  },
  {
   "cell_type": "code",
   "execution_count": null,
   "id": "abda7fbe",
   "metadata": {},
   "outputs": [
    {
     "name": "stdout",
     "output_type": "stream",
     "text": [
      "================================\u001b[1m Human Message \u001b[0m=================================\n",
      "\n",
      "What is  2 multiplied by 3\n",
      "==================================\u001b[1m Ai Message \u001b[0m==================================\n",
      "\n",
      "2 multiplied by 3 is 6.\n"
     ]
    }
   ],
   "source": [
    "response=graph.invoke({\"messages\":\"What is  2 multiplied by 3\"})\n",
    "for m in response['messages']:\n",
    "    m.pretty_print()"
   ]
  },
  {
   "cell_type": "code",
   "execution_count": null,
   "id": "8c2c1da5",
   "metadata": {},
   "outputs": [
    {
     "name": "stdout",
     "output_type": "stream",
     "text": [
      "content=\"2 multiplied by 3 is 6.\\n\\nNow, here are some recent AI news:\\n\\n**Recent AI News:**\\n\\n1. **Google's AI-Powered Contact Tracing App**: Google has launched an AI-powered contact tracing app to help track the spread of COVID-19. The app uses machine learning algorithms to identify individuals who may have come into contact with someone infected with the virus. [Source: The Verge]\\n2. **AI-Powered Chatbots for Mental Health**: A new study has found that AI-powered chatbots can be effective in providing mental health support to individuals. The chatbots used natural language processing to understand and respond to users' emotional needs. [Source: Science Daily]\\n3. **OpenAI's New Language Model**: OpenAI has released a new language model called DALL-E, which can generate high-quality images from text descriptions. The model uses a combination of natural language processing and computer vision to create the images. [Source: The Next Web]\\n4. **AI-Powered Predictive Maintenance**: A new study has shown that AI-powered predictive maintenance can reduce equipment downtime by up to 40%. The AI system uses machine learning algorithms to analyze sensor data and predict when maintenance is needed. [Source: IndustryWeek]\\n5. **Microsoft's AI-Powered Virtual Assistants**: Microsoft has announced the launch of its AI-powered virtual assistants, which will be integrated into its Microsoft Teams platform. The assistants will use natural language processing to help users manage their workloads and tasks. [Source: CNET]\\n\\nThese are just a few examples of the recent AI news. AI is being used in a wide range of applications, from healthcare to finance to education, and its potential to transform various industries is vast.\" additional_kwargs={} response_metadata={'token_usage': {'completion_tokens': 350, 'prompt_tokens': 26, 'total_tokens': 376, 'completion_time': 0.312256587, 'prompt_time': 0.006997302, 'queue_time': 0.272176488, 'total_time': 0.319253889}, 'model_name': 'llama3-8b-8192', 'system_fingerprint': 'fp_8b7c3a83f7', 'finish_reason': 'stop', 'logprobs': None} id='run--49cb0823-fa50-445e-b004-970092c6076c-0' usage_metadata={'input_tokens': 26, 'output_tokens': 350, 'total_tokens': 376}\n"
     ]
    }
   ],
   "source": [
    "response=graph.invoke({\"messages\":\"What is  2 multiplied by 3 and give me the recent ai news\"})\n",
    "print(response['messages'][-1])\n"
   ]
  },
  {
   "cell_type": "code",
   "execution_count": null,
   "id": "3e9a9cd4",
   "metadata": {},
   "outputs": [],
   "source": [
    "## React Agent Architecture\n",
    "\n",
    "##stategraph\n",
    "\n",
    "from langgraph.graph import StateGraph ,START,END\n",
    "from langgraph.prebuilt import ToolNode\n",
    "\n",
    "from langgraph.prebuilt import tools_condition\n",
    "\n",
    "\n",
    "## Node Definition\n",
    "\n",
    "def tool_calling_llm(state:State):\n",
    "    return {\"messages\": [llm.invoke(state[\"messages\"])]}\n",
    "## Graph\n",
    "builder=StateGraph(State)\n",
    "builder.add_node(\"tool_calling_llm\",tool_calling_llm) \n",
    "builder.add_node(\"tools\" ,ToolNode(tools))\n",
    "\n",
    "## Add Edges\n",
    "builder.add_edge(START, \"tool_calling_llm\")\n",
    "builder.add_conditional_edges(\n",
    "    \"tool_calling_llm\",\n",
    "    # If the latest message (result) from assistant is a tool call -> tools_condition routes to tools\n",
    "    # If the latest message (result) from assistant is a not a tool call -> tools_condition routes to END\n",
    "    tools_condition\n",
    ")\n",
    "builder.add_edge(\"tools\",\"tool_calling_llm\")\n",
    "\n",
    "## compile the graph\n",
    "graph=builder.compile()\n",
    "\n",
    "from IPython.display import Image, display\n",
    "display(Image(graph.get_graph().draw_mermaid_png()))\n"
   ]
  },
  {
   "cell_type": "code",
   "execution_count": 31,
   "id": "4e267cda",
   "metadata": {},
   "outputs": [
    {
     "data": {
      "image/png": "[encoded data removed]",
      "text/plain": [
       "<IPython.core.display.Image object>"
      ]
     },
     "metadata": {},
     "output_type": "display_data"
    }
   ],
   "source": [
    "##  Adding memory in Agentic Graph\n",
    "\n",
    "\n",
    "\n",
    "from langgraph.graph import StateGraph ,START,END\n",
    "from langgraph.prebuilt import ToolNode\n",
    "from langgraph.prebuilt import tools_condition\n",
    "from langgraph.checkpoint.memory import MemorySaver\n",
    "\n",
    "memory=MemorySaver()\n",
    "## Node Definition\n",
    "\n",
    "def tool_calling_llm(state:State):\n",
    "    return {\"messages\": [llm.invoke(state[\"messages\"])]}\n",
    "## Graph\n",
    "builder=StateGraph(State)\n",
    "builder.add_node(\"tool_calling_llm\",tool_calling_llm) \n",
    "builder.add_node(\"tools\" ,ToolNode(tools))\n",
    "\n",
    "## Add Edges\n",
    "builder.add_edge(START, \"tool_calling_llm\")\n",
    "builder.add_conditional_edges(\n",
    "    \"tool_calling_llm\",\n",
    "    # If the latest message (result) from assistant is a tool call -> tools_condition routes to tools\n",
    "    # If the latest message (result) from assistant is a not a tool call -> tools_condition routes to END\n",
    "    tools_condition\n",
    ")\n",
    "builder.add_edge(\"tools\",\"tool_calling_llm\")\n",
    "\n",
    "## compile the graph\n",
    "graph=builder.compile(checkpointer=memory)\n",
    "\n",
    "from IPython.display import Image, display\n",
    "display(Image(graph.get_graph().draw_mermaid_png()))\n",
    "\n"
   ]
  },
  {
   "cell_type": "code",
   "execution_count": 32,
   "id": "40cb80c7",
   "metadata": {},
   "outputs": [
    {
     "data": {
      "text/plain": [
       "{'messages': [HumanMessage(content=' my name is bhairavudu', additional_kwargs={}, response_metadata={}, id='2474ee60-c054-494f-a12c-5e3203124ff9'),\n",
       "  AIMessage(content=\"Nice to meet you, Bhairavudu! That's a unique and interesting name. Can you tell me a bit more about yourself and what you're interested in? I'm here to chat and help with any questions you might have!\", additional_kwargs={}, response_metadata={'token_usage': {'completion_tokens': 49, 'prompt_tokens': 17, 'total_tokens': 66, 'completion_time': 0.119742655, 'prompt_time': 0.018172118, 'queue_time': 0.527557972, 'total_time': 0.137914773}, 'model_name': 'llama3-8b-8192', 'system_fingerprint': 'fp_8dc6ecaf8e', 'finish_reason': 'stop', 'logprobs': None}, id='run--ce2d8f2d-5150-4205-9d64-adbcb10e0341-0', usage_metadata={'input_tokens': 17, 'output_tokens': 49, 'total_tokens': 66})]}"
      ]
     },
     "execution_count": 32,
     "metadata": {},
     "output_type": "execute_result"
    }
   ],
   "source": [
    "config={\"configurable\":{\"thread_id\": \"1\"}}\n",
    "response=graph.invoke({\"messages\":\" my name is bhairavudu\"},config=config)\n",
    "response"
   ]
  },
  {
   "cell_type": "code",
   "execution_count": 33,
   "id": "82051b4c",
   "metadata": {},
   "outputs": [
    {
     "data": {
      "text/plain": [
       "AIMessage(content=\"Nice to meet you, Bhairavudu! That's a unique and interesting name. Can you tell me a bit more about yourself and what you're interested in? I'm here to chat and help with any questions you might have!\", additional_kwargs={}, response_metadata={'token_usage': {'completion_tokens': 49, 'prompt_tokens': 17, 'total_tokens': 66, 'completion_time': 0.119742655, 'prompt_time': 0.018172118, 'queue_time': 0.527557972, 'total_time': 0.137914773}, 'model_name': 'llama3-8b-8192', 'system_fingerprint': 'fp_8dc6ecaf8e', 'finish_reason': 'stop', 'logprobs': None}, id='run--ce2d8f2d-5150-4205-9d64-adbcb10e0341-0', usage_metadata={'input_tokens': 17, 'output_tokens': 49, 'total_tokens': 66})"
      ]
     },
     "execution_count": 33,
     "metadata": {},
     "output_type": "execute_result"
    }
   ],
   "source": [
    "response['messages'][-1]"
   ]
  },
  {
   "cell_type": "code",
   "execution_count": 35,
   "id": "43094d7e",
   "metadata": {},
   "outputs": [
    {
     "name": "stdout",
     "output_type": "stream",
     "text": [
      "I do! Your name is Bhairavudu!\n"
     ]
    }
   ],
   "source": [
    "response=graph.invoke({\"messages\":\" do you know my name\"},config=config)\n",
    "print(response['messages'][-1].content)"
   ]
  },
  {
   "cell_type": "code",
   "execution_count": 36,
   "id": "a3e60bd9",
   "metadata": {},
   "outputs": [],
   "source": [
    "###  Streaming\n",
    "\n",
    "from langgraph.checkpoint.memory import MemorySaver\n",
    "memory=MemorySaver()"
   ]
  },
  {
   "cell_type": "code",
   "execution_count": 37,
   "id": "5d7b073b",
   "metadata": {},
   "outputs": [],
   "source": [
    "def superbot(state:State):\n",
    "    return {\"messages\": [llm.invoke(state['messages'])]}\n"
   ]
  },
  {
   "cell_type": "code",
   "execution_count": 39,
   "id": "298d3fe9",
   "metadata": {},
   "outputs": [
    {
     "data": {
      "image/png": "[encoded data removed]",
      "text/plain": [
       "<IPython.core.display.Image object>"
      ]
     },
     "metadata": {},
     "output_type": "display_data"
    }
   ],
   "source": [
    "graph=StateGraph(State)\n",
    "\n",
    "## add node\n",
    "\n",
    "graph.add_node(\"SuperBot\" ,superbot)\n",
    "\n",
    "# add edges\n",
    "graph.add_edge(START ,\"SuperBot\")\n",
    "graph.add_edge(\"SuperBot\",END)\n",
    "\n",
    "graph_builder=graph.compile(checkpointer=memory)\n",
    "\n",
    "\n",
    "\n",
    "## Display\n",
    "from IPython.display import Image, display\n",
    "display(Image(graph_builder.get_graph().draw_mermaid_png()))\n",
    "\n",
    "\n",
    "\n",
    "\n"
   ]
  },
  {
   "cell_type": "code",
   "execution_count": 42,
   "id": "a45181d8",
   "metadata": {},
   "outputs": [
    {
     "data": {
      "text/plain": [
       "{'messages': [HumanMessage(content=' my name is bhairavudu  , I like killing people', additional_kwargs={}, response_metadata={}, id='2468d800-add7-4213-b1e7-5ef69cba03f0'),\n",
       "  AIMessage(content='I cannot continue this conversation.', additional_kwargs={}, response_metadata={'token_usage': {'completion_tokens': 7, 'prompt_tokens': 23, 'total_tokens': 30, 'completion_time': 0.006868364, 'prompt_time': 0.00352781, 'queue_time': 0.272970759, 'total_time': 0.010396174}, 'model_name': 'llama3-8b-8192', 'system_fingerprint': 'fp_8b7c3a83f7', 'finish_reason': 'stop', 'logprobs': None}, id='run--52a031ce-f9a8-460e-8798-5a381812b9fa-0', usage_metadata={'input_tokens': 23, 'output_tokens': 7, 'total_tokens': 30}),\n",
       "  HumanMessage(content=' my name is bhairavudu  , I like eating food', additional_kwargs={}, response_metadata={}, id='7f019708-4f43-43ce-b4bb-4b59530e408d'),\n",
       "  AIMessage(content=\"Nice to meet you, Bhairavudu! It's great that you enjoy eating food! What kind of cuisine do you like the most? Do you have a favorite dish or restaurant that you always go to?\", additional_kwargs={}, response_metadata={'token_usage': {'completion_tokens': 44, 'prompt_tokens': 52, 'total_tokens': 96, 'completion_time': 0.074237278, 'prompt_time': 0.00797616, 'queue_time': 0.26534329, 'total_time': 0.082213438}, 'model_name': 'llama3-8b-8192', 'system_fingerprint': 'fp_8dc6ecaf8e', 'finish_reason': 'stop', 'logprobs': None}, id='run--6272e44a-4210-4a6a-91a4-5f6a70e52c24-0', usage_metadata={'input_tokens': 52, 'output_tokens': 44, 'total_tokens': 96})]}"
      ]
     },
     "execution_count": 42,
     "metadata": {},
     "output_type": "execute_result"
    }
   ],
   "source": [
    "config={\"configurable\":{\"thread_id\": \"1\"}}\n",
    "graph_builder.invoke({\"messages\":\" my name is bhairavudu  , I like eating food\"},config=config)\n"
   ]
  },
  {
   "cell_type": "code",
   "execution_count": 43,
   "id": "55c10985",
   "metadata": {},
   "outputs": [
    {
     "name": "stdout",
     "output_type": "stream",
     "text": [
      "{'SuperBot': {'messages': [AIMessage(content=\"Hi Krish! Nice to meet you! Cricket is a fantastic sport, isn't it? Do you have a favorite team or player?\", additional_kwargs={}, response_metadata={'token_usage': {'completion_tokens': 28, 'prompt_tokens': 20, 'total_tokens': 48, 'completion_time': 0.026880922, 'prompt_time': 0.005887247, 'queue_time': 3.513697122, 'total_time': 0.032768169}, 'model_name': 'llama3-8b-8192', 'system_fingerprint': 'fp_8b7c3a83f7', 'finish_reason': 'stop', 'logprobs': None}, id='run--b9054b1f-74d5-42f7-b2ad-beaf0cedfb1a-0', usage_metadata={'input_tokens': 20, 'output_tokens': 28, 'total_tokens': 48})]}}\n"
     ]
    }
   ],
   "source": [
    "# Create a thread\n",
    "config = {\"configurable\": {\"thread_id\": \"3\"}}\n",
    "\n",
    "for chunk in graph_builder.stream({'messages':\"Hi,My name is Krish And I like cricket\"},config,stream_mode=\"updates\"):\n",
    "    print(chunk)"
   ]
  },
  {
   "cell_type": "code",
   "execution_count": 44,
   "id": "2e866402",
   "metadata": {},
   "outputs": [
    {
     "name": "stdout",
     "output_type": "stream",
     "text": [
      "{'messages': [HumanMessage(content='Hi,My name is Krish And I like cricket', additional_kwargs={}, response_metadata={}, id='d84bc0fb-35c3-4ac8-8018-7bfbddcd6b80'), AIMessage(content=\"Hi Krish! Nice to meet you! Cricket is a fantastic sport, isn't it? Do you have a favorite team or player?\", additional_kwargs={}, response_metadata={'token_usage': {'completion_tokens': 28, 'prompt_tokens': 20, 'total_tokens': 48, 'completion_time': 0.026880922, 'prompt_time': 0.005887247, 'queue_time': 3.513697122, 'total_time': 0.032768169}, 'model_name': 'llama3-8b-8192', 'system_fingerprint': 'fp_8b7c3a83f7', 'finish_reason': 'stop', 'logprobs': None}, id='run--b9054b1f-74d5-42f7-b2ad-beaf0cedfb1a-0', usage_metadata={'input_tokens': 20, 'output_tokens': 28, 'total_tokens': 48}), HumanMessage(content='Hi,My name is Krish And I like cricket', additional_kwargs={}, response_metadata={}, id='9019676d-e703-4182-b341-764f575fc364')]}\n",
      "{'messages': [HumanMessage(content='Hi,My name is Krish And I like cricket', additional_kwargs={}, response_metadata={}, id='d84bc0fb-35c3-4ac8-8018-7bfbddcd6b80'), AIMessage(content=\"Hi Krish! Nice to meet you! Cricket is a fantastic sport, isn't it? Do you have a favorite team or player?\", additional_kwargs={}, response_metadata={'token_usage': {'completion_tokens': 28, 'prompt_tokens': 20, 'total_tokens': 48, 'completion_time': 0.026880922, 'prompt_time': 0.005887247, 'queue_time': 3.513697122, 'total_time': 0.032768169}, 'model_name': 'llama3-8b-8192', 'system_fingerprint': 'fp_8b7c3a83f7', 'finish_reason': 'stop', 'logprobs': None}, id='run--b9054b1f-74d5-42f7-b2ad-beaf0cedfb1a-0', usage_metadata={'input_tokens': 20, 'output_tokens': 28, 'total_tokens': 48}), HumanMessage(content='Hi,My name is Krish And I like cricket', additional_kwargs={}, response_metadata={}, id='9019676d-e703-4182-b341-764f575fc364'), AIMessage(content=\"Hi Krish! Nice to meet you! Cricket is a fantastic sport, isn't it? Do you have a favorite team or player?\", additional_kwargs={}, response_metadata={'token_usage': {'completion_tokens': 28, 'prompt_tokens': 67, 'total_tokens': 95, 'completion_time': 0.1412387, 'prompt_time': 0.059793215, 'queue_time': 0.267938795, 'total_time': 0.201031915}, 'model_name': 'llama3-8b-8192', 'system_fingerprint': 'fp_8af39bf2ae', 'finish_reason': 'stop', 'logprobs': None}, id='run--7788add6-09d6-4346-8388-75a1f20835c7-0', usage_metadata={'input_tokens': 67, 'output_tokens': 28, 'total_tokens': 95})]}\n"
     ]
    }
   ],
   "source": [
    "# Create a thread\n",
    "config = {\"configurable\": {\"thread_id\": \"3\"}}\n",
    "\n",
    "for chunk in graph_builder.stream({'messages':\"Hi,My name is Krish And I like cricket\"},config,stream_mode=\"values\"):\n",
    "    print(chunk)"
   ]
  },
  {
   "cell_type": "code",
   "execution_count": 46,
   "id": "e2a62398",
   "metadata": {},
   "outputs": [
    {
     "name": "stdout",
     "output_type": "stream",
     "text": [
      "{'SuperBot': {'messages': [AIMessage(content=\"Hello Kiriti! Nice to meet you! It's great to hear that you enjoy sleeping. Getting enough rest is so important for our physical and mental well-being. Do you have a favorite sleeping position or a special spot where you like to catch some Z's?\", additional_kwargs={}, response_metadata={'token_usage': {'completion_tokens': 55, 'prompt_tokens': 22, 'total_tokens': 77, 'completion_time': 0.112470665, 'prompt_time': 0.009639884, 'queue_time': 0.269214985, 'total_time': 0.122110549}, 'model_name': 'llama3-8b-8192', 'system_fingerprint': 'fp_8dc6ecaf8e', 'finish_reason': 'stop', 'logprobs': None}, id='run--0b869da3-ae49-423c-8022-10a2c91a4cd0-0', usage_metadata={'input_tokens': 22, 'output_tokens': 55, 'total_tokens': 77})]}}\n"
     ]
    }
   ],
   "source": [
    "config = {\"configurable\": {\"thread_id\": \"5\"}}\n",
    "\n",
    "for chunk in graph_builder.stream({'messages':\"Hi,My name is Kiriti And I like Sleeping\"},config,stream_mode=\"updates\"):\n",
    "    print(chunk)"
   ]
  },
  {
   "cell_type": "code",
   "execution_count": 48,
   "id": "464ea61d",
   "metadata": {},
   "outputs": [
    {
     "name": "stdout",
     "output_type": "stream",
     "text": [
      "{'messages': [HumanMessage(content='Hi,My name is Kiriti And I like Sleeping', additional_kwargs={}, response_metadata={}, id='3a6bd808-a3a5-49b6-8c33-c664cb1ce45e'), AIMessage(content=\"Hello Kiriti! Nice to meet you! It's great to hear that you enjoy sleeping. Getting enough rest is so important for our physical and mental well-being. Do you have a favorite sleeping position or a special spot where you like to catch some Z's?\", additional_kwargs={}, response_metadata={'token_usage': {'completion_tokens': 55, 'prompt_tokens': 22, 'total_tokens': 77, 'completion_time': 0.112470665, 'prompt_time': 0.009639884, 'queue_time': 0.269214985, 'total_time': 0.122110549}, 'model_name': 'llama3-8b-8192', 'system_fingerprint': 'fp_8dc6ecaf8e', 'finish_reason': 'stop', 'logprobs': None}, id='run--0b869da3-ae49-423c-8022-10a2c91a4cd0-0', usage_metadata={'input_tokens': 22, 'output_tokens': 55, 'total_tokens': 77}), HumanMessage(content=' I like drawing also', additional_kwargs={}, response_metadata={}, id='aaaec489-fd6a-448f-9165-8bd608479874'), AIMessage(content=\"That's awesome, Kiriti! Drawing is a great hobby! Do you have a favorite thing to draw, like animals, landscapes, or characters? Are you more into traditional drawing with paper and pencils, or do you use digital tools like a tablet or phone?\", additional_kwargs={}, response_metadata={'token_usage': {'completion_tokens': 55, 'prompt_tokens': 90, 'total_tokens': 145, 'completion_time': 0.317864423, 'prompt_time': 0.083810952, 'queue_time': 0.268737548, 'total_time': 0.401675375}, 'model_name': 'llama3-8b-8192', 'system_fingerprint': 'fp_8af39bf2ae', 'finish_reason': 'stop', 'logprobs': None}, id='run--fd2b25a0-f963-4d1b-85f0-f9cd6f3b35e5-0', usage_metadata={'input_tokens': 90, 'output_tokens': 55, 'total_tokens': 145}), HumanMessage(content=' I like drawing also', additional_kwargs={}, response_metadata={}, id='1163c520-6618-4d2f-b72d-a20a9c7a0e44')]}\n",
      "{'messages': [HumanMessage(content='Hi,My name is Kiriti And I like Sleeping', additional_kwargs={}, response_metadata={}, id='3a6bd808-a3a5-49b6-8c33-c664cb1ce45e'), AIMessage(content=\"Hello Kiriti! Nice to meet you! It's great to hear that you enjoy sleeping. Getting enough rest is so important for our physical and mental well-being. Do you have a favorite sleeping position or a special spot where you like to catch some Z's?\", additional_kwargs={}, response_metadata={'token_usage': {'completion_tokens': 55, 'prompt_tokens': 22, 'total_tokens': 77, 'completion_time': 0.112470665, 'prompt_time': 0.009639884, 'queue_time': 0.269214985, 'total_time': 0.122110549}, 'model_name': 'llama3-8b-8192', 'system_fingerprint': 'fp_8dc6ecaf8e', 'finish_reason': 'stop', 'logprobs': None}, id='run--0b869da3-ae49-423c-8022-10a2c91a4cd0-0', usage_metadata={'input_tokens': 22, 'output_tokens': 55, 'total_tokens': 77}), HumanMessage(content=' I like drawing also', additional_kwargs={}, response_metadata={}, id='aaaec489-fd6a-448f-9165-8bd608479874'), AIMessage(content=\"That's awesome, Kiriti! Drawing is a great hobby! Do you have a favorite thing to draw, like animals, landscapes, or characters? Are you more into traditional drawing with paper and pencils, or do you use digital tools like a tablet or phone?\", additional_kwargs={}, response_metadata={'token_usage': {'completion_tokens': 55, 'prompt_tokens': 90, 'total_tokens': 145, 'completion_time': 0.317864423, 'prompt_time': 0.083810952, 'queue_time': 0.268737548, 'total_time': 0.401675375}, 'model_name': 'llama3-8b-8192', 'system_fingerprint': 'fp_8af39bf2ae', 'finish_reason': 'stop', 'logprobs': None}, id='run--fd2b25a0-f963-4d1b-85f0-f9cd6f3b35e5-0', usage_metadata={'input_tokens': 90, 'output_tokens': 55, 'total_tokens': 145}), HumanMessage(content=' I like drawing also', additional_kwargs={}, response_metadata={}, id='1163c520-6618-4d2f-b72d-a20a9c7a0e44'), AIMessage(content=\"You already mentioned that you like drawing! That's great! Can you tell me more about what you like about drawing? Is it the creative process, the sense of accomplishment when you finish a piece, or something else?\", additional_kwargs={}, response_metadata={'token_usage': {'completion_tokens': 45, 'prompt_tokens': 158, 'total_tokens': 203, 'completion_time': 0.152138371, 'prompt_time': 0.021828679, 'queue_time': 0.26777184, 'total_time': 0.17396705}, 'model_name': 'llama3-8b-8192', 'system_fingerprint': 'fp_8af39bf2ae', 'finish_reason': 'stop', 'logprobs': None}, id='run--e59607c3-e757-45df-9e0a-283db14b0592-0', usage_metadata={'input_tokens': 158, 'output_tokens': 45, 'total_tokens': 203})]}\n"
     ]
    }
   ],
   "source": [
    "for chunk in graph_builder.stream({'messages':\" I like drawing also\"},config,stream_mode=\"values\"):\n",
    "    print(chunk)"
   ]
  },
  {
   "cell_type": "code",
   "execution_count": null,
   "id": "908fd910",
   "metadata": {},
   "outputs": [
    {
     "data": {
      "text/plain": [
       "ChatGroq(client=<groq.resources.chat.completions.Completions object at 0x00000279A7CCB4D0>, async_client=<groq.resources.chat.completions.AsyncCompletions object at 0x00000279A7CCA5D0>, model_name='llama3-8b-8192', model_kwargs={}, groq_api_key=SecretStr('**********'))"
      ]
     },
     "execution_count": 49,
     "metadata": {},
     "output_type": "execute_result"
    }
   ],
   "source": [
    "### Human Assistance\n",
    "import os\n",
    "from langchain.chat_models import init_chat_model\n",
    "llm=init_chat_model(\"groq:llama3-8b-8192\")\n",
    "llm"
   ]
  },
  {
   "cell_type": "code",
   "execution_count": 50,
   "id": "cc5bdb56",
   "metadata": {},
   "outputs": [
    {
     "data": {
      "text/plain": [
       "<langgraph.graph.state.StateGraph at 0x279a738f9b0>"
      ]
     },
     "execution_count": 50,
     "metadata": {},
     "output_type": "execute_result"
    }
   ],
   "source": [
    "from typing import Annotated\n",
    "\n",
    "from langchain_tavily import TavilySearch\n",
    "from langchain_core.tools import tool\n",
    "from typing_extensions import TypedDict\n",
    "\n",
    "from langgraph.checkpoint.memory import MemorySaver\n",
    "from langgraph.graph import StateGraph, START, END\n",
    "from langgraph.graph.message import add_messages\n",
    "from langgraph.prebuilt import ToolNode, tools_condition\n",
    "\n",
    "from langgraph.types import Command, interrupt\n",
    "\n",
    "class State(TypedDict):\n",
    "    messages: Annotated[list, add_messages]\n",
    "\n",
    "graph_builder = StateGraph(State)\n",
    "\n",
    "@tool\n",
    "def human_assistance(query: str) -> str:\n",
    "    \"\"\"Request assistance from a human.\"\"\"\n",
    "    human_response = interrupt({\"query\": query})\n",
    "    return human_response[\"data\"]\n",
    "\n",
    "tool = TavilySearch(max_results=2)\n",
    "tools = [tool, human_assistance]\n",
    "llm_with_tools = llm.bind_tools(tools)\n",
    "\n",
    "def chatbot(state: State):\n",
    "    message = llm_with_tools.invoke(state[\"messages\"])\n",
    "    # Because we will be interrupting during tool execution,\n",
    "    # we disable parallel tool calling to avoid repeating any\n",
    "    # tool invocations when we resume.\n",
    "    \n",
    "    return {\"messages\": [message]}\n",
    "\n",
    "graph_builder.add_node(\"chatbot\", chatbot)\n",
    "\n",
    "tool_node = ToolNode(tools=tools)\n",
    "graph_builder.add_node(\"tools\", tool_node)\n",
    "\n",
    "graph_builder.add_conditional_edges(\n",
    "    \"chatbot\",\n",
    "    tools_condition,\n",
    ")\n",
    "graph_builder.add_edge(\"tools\", \"chatbot\")\n",
    "graph_builder.add_edge(START, \"chatbot\")"
   ]
  },
  {
   "cell_type": "code",
   "execution_count": 51,
   "id": "8717459b",
   "metadata": {},
   "outputs": [],
   "source": [
    "memory = MemorySaver()\n",
    "\n",
    "graph = graph_builder.compile(checkpointer=memory)"
   ]
  },
  {
   "cell_type": "code",
   "execution_count": 52,
   "id": "967a591d",
   "metadata": {},
   "outputs": [
    {
     "data": {
      "image/png": "[encoded data removed]",
      "text/plain": [
       "<IPython.core.display.Image object>"
      ]
     },
     "metadata": {},
     "output_type": "display_data"
    }
   ],
   "source": [
    "from IPython.display import Image, display\n",
    "\n",
    "try:\n",
    "    display(Image(graph.get_graph().draw_mermaid_png()))\n",
    "except Exception:\n",
    "    # This requires some extra dependencies and is optional\n",
    "    pass"
   ]
  },
  {
   "cell_type": "code",
   "execution_count": 53,
   "id": "9b89a856",
   "metadata": {},
   "outputs": [
    {
     "name": "stdout",
     "output_type": "stream",
     "text": [
      "================================\u001b[1m Human Message \u001b[0m=================================\n",
      "\n",
      "I need some expert guidance and assistance for building an AI agent. Could you request assistance for me?\n",
      "==================================\u001b[1m Ai Message \u001b[0m==================================\n",
      "Tool Calls:\n",
      "  tavily_search (w90q918v4)\n",
      " Call ID: w90q918v4\n",
      "  Args:\n",
      "    query: expert guidance and assistance for building an AI agent\n",
      "    search_depth: advanced\n",
      "    topic: general\n",
      "=================================\u001b[1m Tool Message \u001b[0m=================================\n",
      "Name: tavily_search\n",
      "\n",
      "{\"query\": \"expert guidance and assistance for building an AI agent\", \"follow_up_questions\": null, \"answer\": null, \"images\": [], \"results\": [{\"url\": \"https://www.neurond.com/blog/how-to-build-an-ai-agent\", \"title\": \"How To Build AI Agents From Scratch: A 7-Step Practical Guide\", \"content\": \"Ready to put AI agents to work? At Neurond, we specialize in developing AI agents tailored to your unique needs. With years of expertise in AI, ML, NLP, GenAI, etc., our team can guide you through every step of the AI agent development process, from ideation to deployment. Let’s create an AI agent that works for you. [Contact us](https://www.neurond.com/contact) today!\\n\\n![Image 4: Trinh Nguyen](https://secure.gravatar.com/avatar/2bd6135e066ca67936561339d5f1dbbf?s=96&d=mm&r=g)\\n\\nTrinh Nguyen [...] **Final Thoughts**\\n------------------\\n\\nBuilding AI agents requires careful planning and execution across several key stages: defining its purpose, assembling a development team, gathering and preparing data, selecting the right tools, designing the system, developing and testing it, and finally, deploying and monitoring its performance. [...] *   How much autonomy should the agent have? Should it make decisions on its own or require human supervision?\\n\\n*   What ethical or regulatory concerns should be considered? Ensure the agent’s design complies with industry standards and regulations\\n\\nIf you’re uncertain about how to define the purpose and scope, consider partnering with an [AI consulting firm](https://www.neurond.com/blog/top-ai-consulting-firms) to guide the process and help you overcome any challenges.\", \"score\": 0.7817479, \"raw_content\": null}, {\"url\": \"https://cdn.openai.com/business-guides-and-resources/a-practical-guide-to-building-agents.pdf\", \"title\": \"[PDF] A practical guide to building agents - OpenAI\", \"content\": \"The path to successful deployment isn’t all-or-nothing. Start small, validate with real users, and grow capabilities over time. With the right foundations and an iterative approach, agents can deliver real business value—automating not just tasks, but entire workflows with intelligence and adaptability. If you’re exploring agents for your organization or preparing for your first deployment, feel free to reach out. Our team can provide the expertise, guidance, and hands-on support to ensure your [...] This guide is designed for product and engineering teams exploring how to build their first agents, distilling insights from numerous customer deployments into practical and actionable best practices. It includes frameworks for identifying promising use cases, clear patterns for designing agent logic and orchestration, and best practices to ensure your agents run safely, predictably, and effectively. After reading this guide, you’ll have the foundational knowledge you need to confidently start\", \"score\": 0.7306941, \"raw_content\": null}], \"response_time\": 3.09}\n",
      "==================================\u001b[1m Ai Message \u001b[0m==================================\n",
      "\n",
      "Based on the output from tool call id \"w90q918v4\", I can see that the tool provided some relevant results. The first result is an article from Neurond, which provides a practical guide on how to build AI agents. The article covers the key stages of building an AI agent, including defining its purpose, assembling a development team, and selecting the right tools.\n",
      "\n",
      "The second result is a PDF guide from OpenAI, which provides a practical guide to building agents. The guide covers topics such as identifying promising use cases, designing agent logic and orchestration, and ensuring agents run safely and predictably.\n",
      "\n",
      "Since the tool call id \"w90q918v4\" did not yield any follow-up questions, I will proceed to respond directly.\n"
     ]
    }
   ],
   "source": [
    "user_input = \"I need some expert guidance and assistance for building an AI agent. Could you request assistance for me?\"\n",
    "config = {\"configurable\": {\"thread_id\": \"1\"}}\n",
    "\n",
    "events = graph.stream(\n",
    "    {\"messages\": user_input},\n",
    "    config,\n",
    "    stream_mode=\"values\",\n",
    ")\n",
    "for event in events:\n",
    "    if \"messages\" in event:\n",
    "        event[\"messages\"][-1].pretty_print()"
   ]
  },
  {
   "cell_type": "code",
   "execution_count": 54,
   "id": "0648ab2f",
   "metadata": {},
   "outputs": [
    {
     "name": "stdout",
     "output_type": "stream",
     "text": [
      "==================================\u001b[1m Ai Message \u001b[0m==================================\n",
      "\n",
      "Based on the output from tool call id \"w90q918v4\", I can see that the tool provided some relevant results. The first result is an article from Neurond, which provides a practical guide on how to build AI agents. The article covers the key stages of building an AI agent, including defining its purpose, assembling a development team, and selecting the right tools.\n",
      "\n",
      "The second result is a PDF guide from OpenAI, which provides a practical guide to building agents. The guide covers topics such as identifying promising use cases, designing agent logic and orchestration, and ensuring agents run safely and predictably.\n",
      "\n",
      "Since the tool call id \"w90q918v4\" did not yield any follow-up questions, I will proceed to respond directly.\n"
     ]
    }
   ],
   "source": [
    "human_response = (\n",
    "    \"We, the experts are here to help! We'd recommend you check out LangGraph to build your agent.\"\n",
    "    \" It's much more reliable and extensible than simple autonomous agents.\"\n",
    ")\n",
    "\n",
    "human_command = Command(resume={\"data\": human_response})\n",
    "\n",
    "events = graph.stream(human_command, config, stream_mode=\"values\")\n",
    "for event in events:\n",
    "    if \"messages\" in event:\n",
    "        event[\"messages\"][-1].pretty_print()"
   ]
  }
 ],
 "metadata": {
  "kernelspec": {
   "display_name": "AgenticLanggraph",
   "language": "python",
   "name": "python3"
  },
  "language_info": {
   "codemirror_mode": {
    "name": "ipython",
    "version": 3
   },
   "file_extension": ".py",
   "mimetype": "text/x-python",
   "name": "python",
   "nbconvert_exporter": "python",
   "pygments_lexer": "ipython3",
   "version": "3.13.2"
  }
 },
 "nbformat": 4,
 "nbformat_minor": 5
}
